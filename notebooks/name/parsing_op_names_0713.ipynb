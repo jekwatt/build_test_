{
 "cells": [
  {
   "cell_type": "code",
   "execution_count": null,
   "metadata": {
    "colab": {},
    "colab_type": "code",
    "id": "jQPo0IbzAx0C"
   },
   "outputs": [],
   "source": [
    "import re"
   ]
  },
  {
   "cell_type": "markdown",
   "metadata": {
    "colab_type": "text",
    "id": "0u0q3kr1Ax0I"
   },
   "source": [
    "### A Failing Test"
   ]
  },
  {
   "cell_type": "code",
   "execution_count": null,
   "metadata": {
    "colab": {},
    "colab_type": "code",
    "id": "O6jvshjAAx0J"
   },
   "outputs": [],
   "source": [
    "PROVIDER_TEST_CASES = {  # provider_name -> (given_name, last_name)\n",
    "    \"Butler, Kymberly N.\": (\"Kymberly N.\", \"Butler\"),\n",
    "    \"Feldman H, Marc\": (\"Marc\", \"Feldman H\"), \n",
    "    \"Piedra, Pedro A.\": (\"Pedro A.\", \"Piedra\"),\n",
    "    \"Dr. Sherri Onyiego\": (\"Sherri\", \"Onyiego\"),\n",
    "    \"Dr. Erica Schwartz, MD\": (\"Erica\", \"Schwartz\"),\n",
    "    \"Onyiego, Sherri\": (\"Sherri\", \"Onyiego\"),\n",
    "    \"\": (\"\", \"\"),\n",
    "    None: (\"\", \"\"),\n",
    "}"
   ]
  },
  {
   "cell_type": "code",
   "execution_count": null,
   "metadata": {
    "colab": {},
    "colab_type": "code",
    "id": "xDn1pItsAx0L"
   },
   "outputs": [],
   "source": [
    "def test_parser(parser):\n",
    "    for provider_name in PROVIDER_TEST_CASES:\n",
    "        result = parser(provider_name)\n",
    "        if result == PROVIDER_TEST_CASES[provider_name]:\n",
    "            print(f\"PASS: {provider_name!r}\")\n",
    "        else:\n",
    "            print(f\"FAIL: {provider_name!r} -> {result!r}\")"
   ]
  },
  {
   "cell_type": "code",
   "execution_count": null,
   "metadata": {
    "colab": {},
    "colab_type": "code",
    "id": "5Yh7it-jAx0N",
    "outputId": "fd8c0872-6b03-4460-f0e5-b79529db36c7"
   },
   "outputs": [],
   "source": [
    "try:\n",
    "    test_parser(parse_provider_name)\n",
    "except Exception as e:\n",
    "    print(e)"
   ]
  },
  {
   "cell_type": "markdown",
   "metadata": {},
   "source": [
    "### Implementation"
   ]
  },
  {
   "cell_type": "code",
   "execution_count": null,
   "metadata": {
    "colab": {},
    "colab_type": "code",
    "id": "HdQm6NvCAx0a",
    "outputId": "22446d20-b00a-40bd-e2d4-f173bd06971b"
   },
   "outputs": [],
   "source": [
    "DOCTOR_STRIP_PATTERN = re.compile(r\"(?:(Dr)?\\.? *)?([\\w, ]+.[.\\w])\\w*$\")  # not MD yet\n",
    "DEGREE_STRIP_PATTERN = re.compile(r\"([\\w, ]+[.\\w])(?: *,? *(MD|M.D.))\")\n",
    "# NAME_SPLIT_PATTERN = re.compile(r\"(\\w+)(,?) +(\\w[.\\w ]+[.\\w])$\")\n",
    "NAME_SPLIT_PATTERN = re.compile(r\"(\\w+|\\w+ \\w)(,?) +(\\w[.\\w ]+[.\\w])$\")"
   ]
  },
  {
   "cell_type": "code",
   "execution_count": null,
   "metadata": {
    "colab": {},
    "colab_type": "code",
    "id": "HdQm6NvCAx0a",
    "outputId": "22446d20-b00a-40bd-e2d4-f173bd06971b"
   },
   "outputs": [],
   "source": [
    "def parse_provider_name_e(provider_name):\n",
    "    if not provider_name:\n",
    "        return \"\", \"\"\n",
    "    match_1 = DOCTOR_STRIP_PATTERN.match(provider_name)\n",
    "    if not match_1:\n",
    "        return provider_name, \"ERROR 1\"\n",
    "    _, remainder = match_1.groups()\n",
    "    match_2 = DEGREE_STRIP_PATTERN.match(remainder)\n",
    "    full_name = remainder if not match_2 else match_2.group(1)\n",
    "    match_3 = NAME_SPLIT_PATTERN.match(full_name)\n",
    "    if not match_3:\n",
    "        return full_name, \"ERROR 3\"\n",
    "    first_part, optional_comma, second_part = match_3.groups()\n",
    "    if optional_comma:\n",
    "        return second_part, first_part\n",
    "    return first_part, second_part\n",
    "\n",
    "\n",
    "test_parser(parse_provider_name_e)"
   ]
  },
  {
   "cell_type": "code",
   "execution_count": null,
   "metadata": {
    "colab": {},
    "colab_type": "code",
    "id": "o9LAY4unAx0d"
   },
   "outputs": [],
   "source": []
  }
 ],
 "metadata": {
  "colab": {
   "name": "parsing_provider_names.ipynb",
   "provenance": []
  },
  "kernelspec": {
   "display_name": "Python 3",
   "language": "python",
   "name": "python3"
  },
  "language_info": {
   "codemirror_mode": {
    "name": "ipython",
    "version": 3
   },
   "file_extension": ".py",
   "mimetype": "text/x-python",
   "name": "python",
   "nbconvert_exporter": "python",
   "pygments_lexer": "ipython3",
   "version": "3.8.2"
  }
 },
 "nbformat": 4,
 "nbformat_minor": 4
}
