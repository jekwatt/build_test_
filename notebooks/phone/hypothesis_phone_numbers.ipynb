{
 "cells": [
  {
   "cell_type": "markdown",
   "metadata": {},
   "source": [
    "### Property-based testing\n",
    "\n",
    "https://hypothesis.readthedocs.io/en/latest/\n",
    "\n",
    "From the Hypothesis docs:\n",
    "\n",
    "It works by letting you write tests that assert that something should be true for every case, not just the ones you happen to think of.\n",
    "\n",
    "Think of a normal unit test as being something like the following:\n",
    "\n",
    "    1. Set up some data.\n",
    "    2. Perform some operations on the data.\n",
    "    3. Assert something about the result.\n",
    "\n",
    "Hypothesis lets you write tests which instead look like this:\n",
    "\n",
    "    1. For all data matching some specification.\n",
    "    2. Perform some operations on the data.\n",
    "    3. Assert something about the result.\n",
    "    \n",
    "This is often called property based testing, and was popularised by the Haskell library Quickcheck."
   ]
  },
  {
   "cell_type": "code",
   "execution_count": null,
   "metadata": {},
   "outputs": [],
   "source": [
    "import json\n",
    "import re\n",
    "from collections import Counter\n",
    "\n",
    "import pytest\n",
    "\n",
    "from hypothesis import given\n",
    "import hypothesis.strategies as st"
   ]
  },
  {
   "cell_type": "markdown",
   "metadata": {},
   "source": [
    "* A test in Hypothesis consists of two parts: \n",
    "    1. A function that looks like a normal test in your test framework of choice but with some additional arguments\n",
    "    2. `@given` decorator that specifies how to provide those arguments."
   ]
  },
  {
   "cell_type": "markdown",
   "metadata": {},
   "source": [
    "https://hypothesis.readthedocs.io/en/latest/data.html?highlight=regex#hypothesis.strategies.from_regex"
   ]
  },
  {
   "cell_type": "code",
   "execution_count": null,
   "metadata": {},
   "outputs": [],
   "source": [
    "# st.from_regex(regex, *, fullmatch=False)\n",
    "\n",
    "regex = r'^[A-Z]\\w+$'\n",
    "\n",
    "@given(st.from_regex(regex=regex, fullmatch=False))\n",
    "def test_print_text(text):\n",
    "    print(text)\n",
    "\n",
    "test_print_text()"
   ]
  },
  {
   "cell_type": "code",
   "execution_count": null,
   "metadata": {},
   "outputs": [],
   "source": [
    "# * means any number of times\n",
    "regex = r'\\D*(\\d{3})\\D*(\\d{3})\\D*(\\d{4})\\D*$'\n",
    "regex = r'^\\d\\Z'\n",
    "\n",
    "@given(st.from_regex(regex=regex, fullmatch=False))\n",
    "def test_print_num(num):\n",
    "    print(repr(num), ord(num))\n",
    "    \n",
    "test_print_num()                   "
   ]
  },
  {
   "cell_type": "markdown",
   "metadata": {},
   "source": [
    "* Normalize phone number"
   ]
  },
  {
   "cell_type": "code",
   "execution_count": null,
   "metadata": {},
   "outputs": [],
   "source": [
    "# do not delete!\n",
    "phones = [\n",
    "   \"(713) 439-6000\",\n",
    "    \"7134396000\",\n",
    "    \"713-4396000\",\n",
    "    \"713-439-6000\",\n",
    "    \" 713-439-6000\",\n",
    "    \"713-439-6000\",\n",
    "]"
   ]
  },
  {
   "cell_type": "code",
   "execution_count": null,
   "metadata": {},
   "outputs": [],
   "source": [
    "PHONE_TEST_CASES = {  # phone_number -> \"###-###-####\"\n",
    "    \"(713) 555-6000\": \"713-555-6000\",\n",
    "    \"7135556000\": \"713-555-6000\",\n",
    "    \"713-5556000\": \"713-555-6000\",\n",
    "    \"713-555-6000\": \"713-555-6000\",\n",
    "    \" 713-555-6000\": \"713-555-6000\",\n",
    "    \"713-555-6000 \": \"713-555-6000\",\n",
    "    \"17135556000\": \"ERR-BAD-NMBR\",\n",
    "    \"\": \"999-999-9999\",\n",
    "    None: \"999-999-9999\",\n",
    "}"
   ]
  },
  {
   "cell_type": "code",
   "execution_count": null,
   "metadata": {},
   "outputs": [],
   "source": [
    "def test_normalize_phone_number(parser):\n",
    "    for phone_number in PHONE_TEST_CASES:\n",
    "        expected = PHONE_TEST_CASES[phone_number]\n",
    "        res = parser(phone_number)\n",
    "        if res == expected:\n",
    "            print(f\"PASS: {phone_number!r} -> {res!r}\")\n",
    "        else:\n",
    "            print(f\"FAIL: {phone_number!r} -> {res!r}\")"
   ]
  },
  {
   "cell_type": "code",
   "execution_count": null,
   "metadata": {},
   "outputs": [],
   "source": [
    "# test_normalize_phone_number(normalize_phone_number)"
   ]
  },
  {
   "cell_type": "code",
   "execution_count": null,
   "metadata": {},
   "outputs": [],
   "source": [
    "PHONE_PAT = re.compile(r'^\\D*(\\d{3})\\D*(\\d{3})\\D*(\\d{4})\\D*$')\n",
    "PHONE_PAT = re.compile(r'\\D*(\\d{3})\\D*(\\d{3})\\D*(\\d{4})\\D*$')\n",
    "\n",
    "def normalize_phone_number(phone_number):  # provider_phone_number\n",
    "    if not phone_number:\n",
    "        return \"999-999-9999\"\n",
    "    match = PHONE_PAT.match(phone_number)\n",
    "    if not match:\n",
    "        return \"ERR-BAD-NMBR\"\n",
    "    # return match.groups()\n",
    "    area_code, central_office_code, remainder = match.groups()\n",
    "#    return area_code, central_office_code, remainder\n",
    "    return f\"{area_code}-{central_office_code}-{remainder}\""
   ]
  },
  {
   "cell_type": "code",
   "execution_count": null,
   "metadata": {},
   "outputs": [],
   "source": [
    "test_normalize_phone_number(normalize_phone_number)"
   ]
  },
  {
   "cell_type": "markdown",
   "metadata": {},
   "source": [
    "### Hypothesis"
   ]
  },
  {
   "cell_type": "code",
   "execution_count": null,
   "metadata": {},
   "outputs": [],
   "source": [
    "# ZD: As an additional test, not replacement test: just check that it runs without errors!\n",
    "\n",
    "@given(st.from_regex(PHONE_PAT))\n",
    "def test_normalize_phone_number_no_error(parser, phone_number):\n",
    "    parser(phone_number)"
   ]
  },
  {
   "cell_type": "code",
   "execution_count": null,
   "metadata": {},
   "outputs": [],
   "source": [
    "test_normalize_phone_number_no_error(normalize_phone_number)"
   ]
  },
  {
   "cell_type": "code",
   "execution_count": null,
   "metadata": {},
   "outputs": [],
   "source": []
  }
 ],
 "metadata": {
  "kernelspec": {
   "display_name": "Python 3",
   "language": "python",
   "name": "python3"
  },
  "language_info": {
   "codemirror_mode": {
    "name": "ipython",
    "version": 3
   },
   "file_extension": ".py",
   "mimetype": "text/x-python",
   "name": "python",
   "nbconvert_exporter": "python",
   "pygments_lexer": "ipython3",
   "version": "3.8.2"
  }
 },
 "nbformat": 4,
 "nbformat_minor": 4
}
