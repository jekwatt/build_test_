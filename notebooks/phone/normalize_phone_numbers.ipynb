{
 "cells": [
  {
   "cell_type": "code",
   "execution_count": null,
   "metadata": {},
   "outputs": [],
   "source": [
    "import re"
   ]
  },
  {
   "cell_type": "code",
   "execution_count": null,
   "metadata": {},
   "outputs": [],
   "source": [
    "# do not delete!\n",
    "phones = [\n",
    "   \"(713) 439-6000\",\n",
    "    \"7134396000\",\n",
    "    \"713-4396000\",\n",
    "    \"713-439-6000\",\n",
    "    \" 713-439-6000\",\n",
    "    \"713-439-6000\",\n",
    "]"
   ]
  },
  {
   "cell_type": "markdown",
   "metadata": {},
   "source": [
    "### A Failing Test"
   ]
  },
  {
   "cell_type": "code",
   "execution_count": null,
   "metadata": {},
   "outputs": [],
   "source": [
    "MISSING_PHONE_NUMBER = \"\", \"\", \"\"\n",
    "BAD_PHONE_NUMBER = object()\n",
    "\n",
    "# phone_number -> (area_code, central_office_code, remainder)\n",
    "PHONE_TEST_CASES = {\n",
    "    \"(713) 439-6000\": (\"713\", \"439\", \"6000\"),\n",
    "    \"7134396000\": (\"713\", \"439\", \"6000\"),\n",
    "    \"713-4396000\": (\"713\", \"439\", \"6000\"),\n",
    "    \"713-439-6000\": (\"713\", \"439\", \"6000\"),\n",
    "    \" 713-439-6000\": (\"713\", \"439\", \"6000\"),\n",
    "    \"713-439-6000 \": (\"713\", \"439\", \"6000\"),\n",
    "    \"17134396000\": ValueError,\n",
    "    \"\": (\"\", \"\", \"\"),\n",
    "    None: (\"\", \"\", \"\")\n",
    "}"
   ]
  },
  {
   "cell_type": "code",
   "execution_count": null,
   "metadata": {},
   "outputs": [],
   "source": [
    "# phone_number -> \"(###) ###-####\"\n",
    "PHONE_TEST_CASES = {\n",
    "    \"(713) 439-6000\": \"(713) 439-6000\",\n",
    "    \"7134396000\": \"(713) 439-6000\",\n",
    "    \"713-4396000\": \"(713) 439-6000\",\n",
    "    \"713-439-6000\": \"(713) 439-6000\",\n",
    "    \" 713-439-6000\": \"(713) 439-6000\",\n",
    "    \"713-439-6000 \": \"(713) 439-6000\",\n",
    "    \"17134396000\": \"(ERR) BAD-NMBR\",\n",
    "    \"\": \"(999) 999-9999\",\n",
    "    None: \"(999) 999-9999\",\n",
    "}"
   ]
  },
  {
   "cell_type": "code",
   "execution_count": null,
   "metadata": {},
   "outputs": [],
   "source": [
    "# phone_number -> \"###-###-####\"\n",
    "PHONE_TEST_CASES = {\n",
    "    \"(713) 439-6000\": \"713-439-6000\",\n",
    "    \"7134396000\": \"713-439-6000\",\n",
    "    \"713-4396000\": \"713-439-6000\",\n",
    "    \"713-439-6000\": \"713-439-6000\",\n",
    "    \" 713-439-6000\": \"713-439-6000\",\n",
    "    \"713-439-6000 \": \"713-439-6000\",\n",
    "    \"17134396000\": \"ERR-BAD-NMBR\",\n",
    "    \"\": \"999-999-9999\",\n",
    "    None: \"999-999-9999\",\n",
    "}"
   ]
  },
  {
   "cell_type": "code",
   "execution_count": null,
   "metadata": {},
   "outputs": [],
   "source": [
    "def test_parse_phone_number(parser):\n",
    "    for phone_number in PHONE_TEST_CASES:\n",
    "        expected = PHONE_TEST_CASES[phone_number]\n",
    "        try:\n",
    "            res = parser(phone_number)\n",
    "            if res == expected:\n",
    "                print(f\"PASS: {phone_number!r} -> {res!r}\")\n",
    "            else:\n",
    "                print(f\"FAIL: {phone_number!r} -> {res!r}\")\n",
    "        except Exception as e:\n",
    "            if issubclass(expected, Exception) and isinstance(e, expected):\n",
    "                print(f\"PASS: {phone_number!r} -> {e}\")\n",
    "            else:\n",
    "                print(f\"FAIL: {phone_number!r} -> {e}\")\n",
    "                \n",
    "try:\n",
    "    test_parse_phone_number(parse_phone_number)\n",
    "except Exception as e:\n",
    "    print(e)                "
   ]
  },
  {
   "cell_type": "code",
   "execution_count": null,
   "metadata": {},
   "outputs": [],
   "source": [
    "def test_normalize_phone_number(parser):\n",
    "    for phone_number in PHONE_TEST_CASES:\n",
    "        expected = PHONE_TEST_CASES[phone_number]\n",
    "        res = parser(phone_number)\n",
    "        if res == expected:\n",
    "            print(f\"PASS: {phone_number!r} -> {res!r}\")\n",
    "        else:\n",
    "            print(f\"FAIL: {phone_number!r} -> {res!r}\")"
   ]
  },
  {
   "cell_type": "markdown",
   "metadata": {},
   "source": [
    "### Implementation"
   ]
  },
  {
   "cell_type": "code",
   "execution_count": null,
   "metadata": {},
   "outputs": [],
   "source": [
    "PHONE_PAT = re.compile(r'^\\D*(\\d{3})\\D*(\\d{3})\\D*(\\d{4})\\D*$')\n",
    "PHONE_PAT = re.compile(r'\\D*(\\d{3})\\D*(\\d{3})\\D*(\\d{4})\\D*$')"
   ]
  },
  {
   "cell_type": "code",
   "execution_count": null,
   "metadata": {},
   "outputs": [],
   "source": [
    "m = re.match(PHONE_PAT, phones[0])"
   ]
  },
  {
   "cell_type": "code",
   "execution_count": null,
   "metadata": {},
   "outputs": [],
   "source": [
    "m.groups()"
   ]
  },
  {
   "cell_type": "markdown",
   "metadata": {},
   "source": [
    "* PAT.match() vs. re.search()"
   ]
  },
  {
   "cell_type": "code",
   "execution_count": null,
   "metadata": {},
   "outputs": [],
   "source": [
    "phone_number = \"(713) 439-6000\"\n",
    "\n",
    "# pat.match scans only the beginning of the string\n",
    "m = PHONE_PAT.match(phone_number)\n",
    "m"
   ]
  },
  {
   "cell_type": "code",
   "execution_count": null,
   "metadata": {},
   "outputs": [],
   "source": [
    "# re.search scans through the whole string \n",
    "s = re.search(PHONE_PAT, phone_number)\n",
    "s"
   ]
  },
  {
   "cell_type": "code",
   "execution_count": null,
   "metadata": {},
   "outputs": [],
   "source": [
    "def parse_phone_number(phone_number):\n",
    "    if not phone_number:\n",
    "        return \"\"\n",
    "    match = PHONE_PAT.match(phone_number)\n",
    "    if not match:\n",
    "        return phone_number, \"Error\"\n",
    "    area_code, central_office_code, remainder = match.groups()\n",
    "    # return area_code, central_office_code, remainder\n",
    "    return f\"({area_code}) {central_office_code}-{remainder}\""
   ]
  },
  {
   "cell_type": "code",
   "execution_count": null,
   "metadata": {},
   "outputs": [],
   "source": [
    "def normalize_phone_number(phone_number):\n",
    "    if not phone_number:\n",
    "        return \"(999) 999-9999\"\n",
    "    match = PHONE_PAT.match(phone_number)\n",
    "    if not match:\n",
    "        return \"(ERR)BAD-NMBR\"\n",
    "    area_code, central_office_code, remainder = match.groups()\n",
    "    return f\"({area_code}) {central_office_code}-{remainder}\"\n",
    "\n",
    "def normalize_phone_number(phone_number):\n",
    "    \"\"\"\n",
    "    An example of match.groups:\n",
    "        ('713', '439', '6000')\n",
    "    \n",
    "    Examples of the input and output:\n",
    "        \"(713) 439-6000\": \"713-439-6000\",\n",
    "        \"7134396000\": \"713-439-6000\"\n",
    "        \"713-4396000\": \"713-439-6000\",\n",
    "        \"713-439-6000\": \"713-439-6000\",\n",
    "        \" 713-439-6000\": \"713-439-6000\",\n",
    "        \"713-439-6000 \": \"713-439-6000\",\n",
    "        \"17134396000\": \"ERR-BAD-NMBR\",\n",
    "        \"\": \"999-999-9999\",\n",
    "        None: \"999-999-9999,\n",
    "    \n",
    "    :param phone_number: input string\n",
    "    :returns: f\"{area_code}-{central_office_code}-{remainder}\", \n",
    "        output string\n",
    "    \"\"\"\n",
    "    if not phone_number:\n",
    "        return \"999-999-9999\"\n",
    "    match = PHONE_PAT.match(phone_number)\n",
    "    if not match:\n",
    "        return \"ERR-BAD-NMBR\"\n",
    "    area_code, central_office_code, remainder = match.groups()\n",
    "    return f\"{area_code}-{central_office_code}-{remainder}\""
   ]
  },
  {
   "cell_type": "code",
   "execution_count": null,
   "metadata": {},
   "outputs": [],
   "source": [
    "test_normalize_phone_number(normalize_phone_number)"
   ]
  },
  {
   "cell_type": "code",
   "execution_count": null,
   "metadata": {},
   "outputs": [],
   "source": []
  }
 ],
 "metadata": {
  "kernelspec": {
   "display_name": "Python 3",
   "language": "python",
   "name": "python3"
  },
  "language_info": {
   "codemirror_mode": {
    "name": "ipython",
    "version": 3
   },
   "file_extension": ".py",
   "mimetype": "text/x-python",
   "name": "python",
   "nbconvert_exporter": "python",
   "pygments_lexer": "ipython3",
   "version": "3.8.2"
  }
 },
 "nbformat": 4,
 "nbformat_minor": 4
}
