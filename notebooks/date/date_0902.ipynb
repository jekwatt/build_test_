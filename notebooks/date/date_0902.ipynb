{
 "cells": [
  {
   "cell_type": "code",
   "execution_count": null,
   "metadata": {},
   "outputs": [],
   "source": [
    "from datetime import date, time, datetime\n",
    "from dateutil import parser\n",
    "import re"
   ]
  },
  {
   "cell_type": "code",
   "execution_count": null,
   "metadata": {},
   "outputs": [],
   "source": [
    "date_string = '2019-12-04'\n",
    "d = date.fromisoformat(date_string)\n",
    "d"
   ]
  },
  {
   "cell_type": "code",
   "execution_count": null,
   "metadata": {},
   "outputs": [],
   "source": [
    "# expect ValueError\n",
    "# d = date(2002, 2, 31)"
   ]
  },
  {
   "cell_type": "code",
   "execution_count": null,
   "metadata": {},
   "outputs": [],
   "source": [
    "d = date(2002, 8, 5)"
   ]
  },
  {
   "cell_type": "code",
   "execution_count": null,
   "metadata": {},
   "outputs": [],
   "source": [
    "d"
   ]
  },
  {
   "cell_type": "code",
   "execution_count": null,
   "metadata": {},
   "outputs": [],
   "source": [
    "d.timetuple()"
   ]
  },
  {
   "cell_type": "code",
   "execution_count": null,
   "metadata": {},
   "outputs": [],
   "source": [
    "d.year"
   ]
  },
  {
   "cell_type": "code",
   "execution_count": null,
   "metadata": {},
   "outputs": [],
   "source": [
    "d.month"
   ]
  },
  {
   "cell_type": "markdown",
   "metadata": {},
   "source": [
    "### A Failing Test"
   ]
  },
  {
   "cell_type": "code",
   "execution_count": null,
   "metadata": {},
   "outputs": [],
   "source": [
    "DATE_TEST_CASES = {\n",
    "    # actual cases\n",
    "    \"2020-07-14 19:40:09\":  \"7/14/2020\",  # result_finished\n",
    "    \"1987-03-11\": \"3/11/1987\",  # dob\n",
    "    \"2020-07-14\": \"7/14/2020\",  # report_date\n",
    "    \"8/31/2020\": \"8/31/2020\",  # report_date, new case\n",
    "    \"2020-07-13 08:40\": \"7/13/2020\",  # requisition_finished\n",
    "    \"2020-07-13 12:05\": \"7/13/2020\",  # collection_datetime\n",
    "    \"2020-07-13T12:05\": \"7/13/2020\",  # in case\n",
    "    \"NaN\": None,\n",
    "    \"nan\": None,\n",
    "    \"\": None,\n",
    "    # hypothetical cases\n",
    "    \"10/11/12\": \"10/11/2012\",  # -> \"10/11/2012\"\n",
    "    \"20/11/2\": ValueError,  # -> \"11/20/2002\"\n",
    "    \"date-of-on is never\": ValueError,\n",
    "    \"2020-99-01 is never\": ValueError,\n",
    "    \"2020-02-30 is never\": ValueError,\n",
    "    \"2020-07-13 hello\": ValueError,\n",
    "}"
   ]
  },
  {
   "cell_type": "code",
   "execution_count": null,
   "metadata": {},
   "outputs": [],
   "source": [
    "def test_ymd_to_mdy(func):\n",
    "    for date in DATE_TEST_CASES:\n",
    "        expected = DATE_TEST_CASES[date]\n",
    "        try:\n",
    "            res = func(date)\n",
    "            if res == expected:\n",
    "                print(f\"PASS: {date!r} -> {res!r}\")\n",
    "            else:\n",
    "                print(f\"FAIL: {date!r} -> {res!r}\")\n",
    "        except Exception as e:\n",
    "            if issubclass(expected, Exception) and isinstance(e, expected):\n",
    "                print(f\"PASS: {date!r} -> {e!r}\")\n",
    "            else:\n",
    "                print(f\"FAIL: {date!r} -> {e!r}\")"
   ]
  },
  {
   "cell_type": "code",
   "execution_count": null,
   "metadata": {},
   "outputs": [],
   "source": [
    "# test_ymd_to_mdy(ymd_to_mdy)"
   ]
  },
  {
   "cell_type": "markdown",
   "metadata": {},
   "source": [
    "### Implementation"
   ]
  },
  {
   "cell_type": "code",
   "execution_count": null,
   "metadata": {},
   "outputs": [],
   "source": [
    "def ymd_to_mdy(ymd_str):\n",
    "    y, m, d = ymd_str.split(\"-\")\n",
    "    if len(y) == 4 and len(m) == len(d) == 2:\n",
    "        return f\"{m}/{d}/{y}\"\n",
    "    raise ValueError(ymd_str)\n",
    "    \n",
    "    \n",
    "def ymd_to_mdy(ymd_str):\n",
    "    TIME_SEP = r\"[ T]\"\n",
    "    y, m, d = re.split(TIME_SEP, ymd_str, 1)[0].split(\"-\")\n",
    "    if len(y) == 4 and len(m) == len(d) == 2:\n",
    "        return f\"{m}/{d}/{y}\"\n",
    "    raise ValueError(ymd_str)\n",
    "    \n",
    "\n",
    "def ymd_to_mdy(ymd_str, default=None):\n",
    "    \"\"\"\n",
    "    iso_date: 2020-07-13\n",
    "    d: datetime.date(2019, 12, 4)\n",
    "    \"\"\"\n",
    "    if ymd_str.lower() in [\"nan\", \"\"]:\n",
    "        return default\n",
    "    TIME_SEP = r\"[ T]\"\n",
    "    iso_date = re.split(TIME_SEP, ymd_str, 1)[0]\n",
    "    d = date.fromisoformat(iso_date)\n",
    "    return f\"{d.month}/{d.day}/{d.year}\"\n",
    "\n",
    "\n",
    "def ymd_to_mdy(date_str, default=None):\n",
    "    \"\"\"\n",
    "    d: datetime.date(2020, 8, 31)\n",
    "    \"\"\"\n",
    "    if date_str.lower() in [\"nan\", \"\"]:\n",
    "        return default\n",
    "    d = parser.parse(date_str).date()\n",
    "    return f\"{d.month}/{d.day}/{d.year}\"\n",
    "    # return f\"{d.month:02d}/{d.day:02d}/{d.year}\""
   ]
  },
  {
   "cell_type": "code",
   "execution_count": null,
   "metadata": {},
   "outputs": [],
   "source": [
    "from dateutil import parser\n",
    "d1 = \"8/31/2020\"\n",
    "d2 = \"2020-07-14\"\n",
    "d3 = \"2020-08-24 19:40:09\"\n",
    "\n",
    "d = parser.parse(d1).date()\n",
    "d"
   ]
  },
  {
   "cell_type": "code",
   "execution_count": null,
   "metadata": {},
   "outputs": [],
   "source": [
    "print(f\"{d.month}/{d.day}/{d.year}\")"
   ]
  },
  {
   "cell_type": "code",
   "execution_count": null,
   "metadata": {},
   "outputs": [],
   "source": [
    "test_ymd_to_mdy(ymd_to_mdy)"
   ]
  },
  {
   "cell_type": "code",
   "execution_count": null,
   "metadata": {},
   "outputs": [],
   "source": [
    "ymd_to_mdy(\"2020-07-13T12:05\")"
   ]
  }
 ],
 "metadata": {
  "kernelspec": {
   "display_name": "Python 3",
   "language": "python",
   "name": "python3"
  },
  "language_info": {
   "codemirror_mode": {
    "name": "ipython",
    "version": 3
   },
   "file_extension": ".py",
   "mimetype": "text/x-python",
   "name": "python",
   "nbconvert_exporter": "python",
   "pygments_lexer": "ipython3",
   "version": "3.8.2"
  }
 },
 "nbformat": 4,
 "nbformat_minor": 4
}
