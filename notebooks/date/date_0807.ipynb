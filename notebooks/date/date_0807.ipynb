{
 "cells": [
  {
   "cell_type": "code",
   "execution_count": null,
   "metadata": {},
   "outputs": [],
   "source": [
    "from datetime import date, time, datetime\n",
    "import re"
   ]
  },
  {
   "cell_type": "code",
   "execution_count": null,
   "metadata": {},
   "outputs": [],
   "source": [
    "date_string = '2019-12-04'\n",
    "d = date.fromisoformat(date_string)\n",
    "d"
   ]
  },
  {
   "cell_type": "code",
   "execution_count": null,
   "metadata": {},
   "outputs": [],
   "source": [
    "# clever\n",
    "# d = date(2002, 2, 31)"
   ]
  },
  {
   "cell_type": "code",
   "execution_count": null,
   "metadata": {},
   "outputs": [],
   "source": [
    "d = date(2002, 8, 5)"
   ]
  },
  {
   "cell_type": "code",
   "execution_count": null,
   "metadata": {},
   "outputs": [],
   "source": [
    "d"
   ]
  },
  {
   "cell_type": "code",
   "execution_count": null,
   "metadata": {},
   "outputs": [],
   "source": [
    "d.timetuple()"
   ]
  },
  {
   "cell_type": "code",
   "execution_count": null,
   "metadata": {},
   "outputs": [],
   "source": [
    "d.year"
   ]
  },
  {
   "cell_type": "code",
   "execution_count": null,
   "metadata": {},
   "outputs": [],
   "source": [
    "d.month"
   ]
  },
  {
   "cell_type": "markdown",
   "metadata": {},
   "source": [
    "* Date"
   ]
  },
  {
   "cell_type": "code",
   "execution_count": null,
   "metadata": {},
   "outputs": [],
   "source": [
    "def ymd_to_mdy(ymd_str):\n",
    "    \"2021-01-23 -> 01/23/2021\"\n",
    "    y, m, d = ymd_str.split(\"-\")\n",
    "    if len(y) == 4 and len(m) == len(d) == 2:\n",
    "        return f\"{m}/{d}/{y}\"\n",
    "    raise ValueError(ymd_str)\n",
    "\n",
    "\n",
    "# new and improved  \n",
    "def ymd_to_mdy(ymd_str):\n",
    "    \"\"\"\n",
    "    2020-07-14 19:40:09 -> 07/14/2020  # result_finished\n",
    "    1987-03-11 -> 03/11/1987  # dob\n",
    "    2020-07-14 -> 07/14/2020  # report_date\n",
    "    2020-07-13 08:40 -> 07/13/2020  # requisition_finished\n",
    "    2020-07-13 12:05 -> 07/13/2020  # collection_datetime\n",
    "    2020-07-13T12:05 -> 07/13/2020  # in case\n",
    "    \"\"\"\n",
    "    TIME_SEP = r\"[ T]\"\n",
    "    y, m, d = re.split(TIME_SEP, ymd_str, 1)[0].split(\"-\")\n",
    "    if len(y) == 4 and len(m) == len(d) == 2:\n",
    "        return f\"{m}/{d}/{y}\"\n",
    "    raise ValueError(ymd_str)\n",
    "    \n",
    "\n",
    "def ymd_to_mdy(ymd_str, default=None):\n",
    "    \"\"\"\n",
    "    2020-07-14 19:40:09 -> 07/14/2020  # result_finished\n",
    "    1987-03-11 -> 03/11/1987  # dob\n",
    "    2020-07-14 -> 07/14/2020  # report_date\n",
    "    2020-07-13 08:40 -> 07/13/2020  # requisition_finished\n",
    "    2020-07-13 12:05 -> 07/13/2020  # collection_datetime\n",
    "    2020-07-13T12:05 -> 07/13/2020  # in case\n",
    "    NaN -> \"\"\n",
    "    nan -> \"\"\n",
    "    \"\" -> \"\"\n",
    "    \"date-of-on is never\" -> ValueError\n",
    "    \"2020-99-01 is never\" -> ValueError\n",
    "    \"2020-02-30 is never\" -> ValueError\n",
    "    \n",
    "    iso_date: 2020-07-13  # YYYY-mm-dd\n",
    "    d: datetime.date(2019, 12, 4)  # datetime.date format\n",
    "    \"\"\"\n",
    "    if ymd_str.lower() in [\"nan\", \"\"]:\n",
    "        return default\n",
    "    TIME_SEP = r\"[ T]\"\n",
    "    iso_date = re.split(TIME_SEP, ymd_str, 1)[0]\n",
    "    d = date.fromisoformat(iso_date)\n",
    "    return f\"{d.month}/{d.day}/{d.year}\""
   ]
  },
  {
   "cell_type": "code",
   "execution_count": null,
   "metadata": {},
   "outputs": [],
   "source": [
    "ymd_to_mdy(\"2020-07-13 hello\")"
   ]
  },
  {
   "cell_type": "code",
   "execution_count": null,
   "metadata": {},
   "outputs": [],
   "source": [
    "ymd_to_mdy(\"2020-07-08\")"
   ]
  },
  {
   "cell_type": "code",
   "execution_count": null,
   "metadata": {},
   "outputs": [],
   "source": []
  }
 ],
 "metadata": {
  "kernelspec": {
   "display_name": "Python 3",
   "language": "python",
   "name": "python3"
  },
  "language_info": {
   "codemirror_mode": {
    "name": "ipython",
    "version": 3
   },
   "file_extension": ".py",
   "mimetype": "text/x-python",
   "name": "python",
   "nbconvert_exporter": "python",
   "pygments_lexer": "ipython3",
   "version": "3.8.2"
  }
 },
 "nbformat": 4,
 "nbformat_minor": 4
}
