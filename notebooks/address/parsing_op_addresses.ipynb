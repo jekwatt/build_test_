{
 "cells": [
  {
   "cell_type": "code",
   "execution_count": null,
   "metadata": {},
   "outputs": [],
   "source": [
    "import re"
   ]
  },
  {
   "cell_type": "markdown",
   "metadata": {},
   "source": [
    "### A Failling Test"
   ]
  },
  {
   "cell_type": "code",
   "execution_count": null,
   "metadata": {},
   "outputs": [],
   "source": [
    "ADDRESS_TEST_CASES = {\n",
    "    \"2223 West Loop South, Houston, TX 77027\": (\"2223 West Loop South\", \"Houston\", \"TX\", \"77027\"),\n",
    "    \"2223  West Loop South, Houston, TX 77027\": (\"2223  West Loop South\", \"Houston\", \"TX\", \"77027\"),\n",
    "    \" 4405 Griggs Rd. Houston, tx 77021\": (\"4405 Griggs Rd.\", \"Houston\", \"TX\", \"77021\"),\n",
    "    \"123   Two Word Avenue, Bellaire   , texas 77123\": (\"123   Two Word Avenue\", \"Bellaire\", \"TX\", \"77123\"),\n",
    "    \"123 Two Word Ave.,Jacinto cityTexas77123 \": (\"123 Two Word Ave.\", \"Jacinto City\", \"TX\", \"77123\"),\n",
    "    \"1 Baylor Plaza, MS BCM 280, Houston, TX 77030\": (\"1 Baylor Plaza, MS BCM 280\", \"Houston\", \"TX\", \"77030\"),\n",
    "    \"\": (\"\", \"\", \"\", \"\"),\n",
    "}"
   ]
  },
  {
   "cell_type": "code",
   "execution_count": null,
   "metadata": {},
   "outputs": [],
   "source": [
    "patterns = [re.compile(p, flags=re.IGNORECASE) for p in [\n",
    "    \" *(\\d+ +[^,]+[^, ]) +(Houston),? *(TX|Texas) *(\\d{5}) *$\",\n",
    "    \" *(\\d+ +[^,]+[^, ]) *, *([^,]+[^, ]) *,? *(TX|Texas) *(\\d{5}) *$\",\n",
    "    \" *(\\d+ +[^,]+[^, ] *, *[^,]+[^, ]) *, *([^,]+[^, ]) *,? *(TX|Texas) *(\\d{5}) *$\",\n",
    "]]"
   ]
  },
  {
   "cell_type": "code",
   "execution_count": null,
   "metadata": {},
   "outputs": [],
   "source": [
    "def parse_address_and_normalize(address_str):\n",
    "    street, city, state, zipcode = parse_address(address_str)\n",
    "    street = street.rstrip(\" ,\")\n",
    "    city = city.title()\n",
    "    state = state.upper()\n",
    "    state = \"TX\" if state == \"TEXAS\" else state\n",
    "    return street, city, state, zipcode\n",
    "\n",
    "\n",
    "def parse_address(address_str):\n",
    "    for pattern in patterns:\n",
    "        match = pattern.match(address_str)\n",
    "        if match:\n",
    "            return match.groups()\n",
    "    return (\"\", \"\", \"\", \"\")"
   ]
  },
  {
   "cell_type": "code",
   "execution_count": null,
   "metadata": {},
   "outputs": [],
   "source": [
    "def test_parse_address(parser):\n",
    "    for address in ADDRESS_TEST_CASES:\n",
    "        result = parser(address)\n",
    "        if result == ADDRESS_TEST_CASES[address]:\n",
    "            print(f\"PASS: {address!r} -> {result!r}\")\n",
    "        else:\n",
    "            print(f\"FAIL: {address!r} -> {result!r}\")\n",
    "            \n",
    "test_parse_address(parse_address_and_normalize)"
   ]
  },
  {
   "cell_type": "code",
   "execution_count": null,
   "metadata": {},
   "outputs": [],
   "source": []
  }
 ],
 "metadata": {
  "kernelspec": {
   "display_name": "Python 3",
   "language": "python",
   "name": "python3"
  },
  "language_info": {
   "codemirror_mode": {
    "name": "ipython",
    "version": 3
   },
   "file_extension": ".py",
   "mimetype": "text/x-python",
   "name": "python",
   "nbconvert_exporter": "python",
   "pygments_lexer": "ipython3",
   "version": "3.8.2"
  }
 },
 "nbformat": 4,
 "nbformat_minor": 4
}
